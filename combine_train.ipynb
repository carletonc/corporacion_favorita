{
 "cells": [
  {
   "cell_type": "code",
   "execution_count": 1,
   "metadata": {
    "collapsed": true
   },
   "outputs": [],
   "source": [
    "import pandas as pd"
   ]
  },
  {
   "cell_type": "markdown",
   "metadata": {},
   "source": [
    "# Merge Test Dataframes"
   ]
  },
  {
   "cell_type": "code",
   "execution_count": null,
   "metadata": {
    "collapsed": true
   },
   "outputs": [],
   "source": [
    "items = pd.read_csv('new_data/new_items.csv')                                        # MERGE ON -- item_nbr\n",
    "train_store_transactions = pd.read_csv('new_data/train_store_transactions.csv')      # MERGE ON -- date, month, day, store_nbr\n",
    "train_holidays = pd.read_csv('new_data/train_holidays.csv')                          # MERGE ON -- date, month, day, year\n",
    "train_oil = pd.read_csv('new_data/train_oil.csv')                                    # MERGE ON -- date, month, day, year\n",
    "\n",
    "new_train = pd.DataFrame()\n",
    "chunksize = 300000\n",
    "for chunk in pd.read_csv('new_data/new_train.csv', chunksize=chunksize):\n",
    "    chunk = chunk.merge(items, on='item_nbr')\n",
    "    chunk.sort_values(by=['id'], inplace=True)\n",
    "    chunk.reset_index(drop=True, inplace=True)\n",
    "    chunk = chunk.merge(train_store_transactions, on=['date','month','day','year','store_nbr'])\n",
    "    chunk = chunk.merge(train_holidays, on=['date','month','day','year'])\n",
    "    chunk = chunk.merge(train_oil, on=['date','month','day','year'])\n",
    "    new_train.append(chunk, ignore_index=True)"
   ]
  },
  {
   "cell_type": "code",
   "execution_count": null,
   "metadata": {
    "collapsed": true
   },
   "outputs": [],
   "source": [
    "new_train.to_csv('TRAIN_FINAL.csv', index=False, chunksize=500000)"
   ]
  },
  {
   "cell_type": "markdown",
   "metadata": {},
   "source": [
    "# Merge Without Items DF"
   ]
  },
  {
   "cell_type": "code",
   "execution_count": null,
   "metadata": {
    "collapsed": true
   },
   "outputs": [],
   "source": [
    "train_df = pd.read_csv('new_data/new_train.csv')"
   ]
  },
  {
   "cell_type": "code",
   "execution_count": null,
   "metadata": {
    "collapsed": true
   },
   "outputs": [],
   "source": [
    "train_store_transactions = pd.read_csv('new_data/train_store_transactions.csv')    # MERGE ON -- date, month, day, store_nbr\n",
    "train_df = train_df.merge(train_store_transactions, on=['date','month','day','year','store_nbr'])\n",
    "del train_store_transactions\n",
    "\n",
    "train_holidays = pd.read_csv('new_data/train_holidays.csv')                        # MERGE ON -- date, month, day, year\n",
    "train_df = train_df.merge(train_holidays, on=['date','month','day','year'])\n",
    "del train_holidays\n",
    "\n",
    "train_oil = pd.read_csv('new_data/train_oil.csv')                                  # MERGE ON -- date, month, day, year\n",
    "train_df = train_df.merge(train_oil, on=['date','month','day','year'])\n",
    "del train_oil"
   ]
  },
  {
   "cell_type": "code",
   "execution_count": null,
   "metadata": {
    "collapsed": true
   },
   "outputs": [],
   "source": [
    "train_df.to_csv('TRAIN_FINAL_NO_ITEMS.csv', index=False, chunksize=500000)"
   ]
  }
 ],
 "metadata": {
  "kernelspec": {
   "display_name": "Python 3",
   "language": "python",
   "name": "python3"
  },
  "language_info": {
   "codemirror_mode": {
    "name": "ipython",
    "version": 3
   },
   "file_extension": ".py",
   "mimetype": "text/x-python",
   "name": "python",
   "nbconvert_exporter": "python",
   "pygments_lexer": "ipython3",
   "version": "3.6.4"
  }
 },
 "nbformat": 4,
 "nbformat_minor": 2
}
