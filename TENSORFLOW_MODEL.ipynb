{
 "cells": [
  {
   "cell_type": "markdown",
   "metadata": {},
   "source": [
    "# Import data"
   ]
  },
  {
   "cell_type": "code",
   "execution_count": 1,
   "metadata": {
    "collapsed": true
   },
   "outputs": [],
   "source": [
    "import pandas as pd"
   ]
  },
  {
   "cell_type": "code",
   "execution_count": 2,
   "metadata": {},
   "outputs": [
    {
     "data": {
      "text/plain": [
       "(125497040, 104)"
      ]
     },
     "execution_count": 2,
     "metadata": {},
     "output_type": "execute_result"
    }
   ],
   "source": [
    "TRAIN = pd.read_csv('TRAIN_FINAL_NO_ITEMS.csv')\n",
    "TRAIN.shape"
   ]
  },
  {
   "cell_type": "code",
   "execution_count": 3,
   "metadata": {},
   "outputs": [
    {
     "data": {
      "text/plain": [
       "(125497040, 1)"
      ]
     },
     "execution_count": 3,
     "metadata": {},
     "output_type": "execute_result"
    }
   ],
   "source": [
    "TARGET = pd.read_csv('TRAIN_TARGET.csv')\n",
    "TARGET.shape"
   ]
  },
  {
   "cell_type": "code",
   "execution_count": 4,
   "metadata": {},
   "outputs": [
    {
     "data": {
      "text/plain": [
       "(3370464, 104)"
      ]
     },
     "execution_count": 4,
     "metadata": {},
     "output_type": "execute_result"
    }
   ],
   "source": [
    "TEST = pd.read_csv('TEST_FINAL_NO_ITEMS.csv')\n",
    "TEST.shape"
   ]
  },
  {
   "cell_type": "markdown",
   "metadata": {},
   "source": [
    "# Build model"
   ]
  },
  {
   "cell_type": "code",
   "execution_count": 5,
   "metadata": {},
   "outputs": [
    {
     "name": "stderr",
     "output_type": "stream",
     "text": [
      "/home/carleton_coggins/anaconda3/lib/python3.6/site-packages/h5py/__init__.py:34: FutureWarning: Conversion of the second argument of issubdtype from `float` to `np.floating` is deprecated. In future, it will be treated as `np.float64 == np.dtype(float).type`.\n",
      "  from ._conv import register_converters as _register_converters\n"
     ]
    }
   ],
   "source": [
    "import tensorflow as tf"
   ]
  },
  {
   "cell_type": "code",
   "execution_count": 6,
   "metadata": {
    "collapsed": true
   },
   "outputs": [],
   "source": [
    "columns = TRAIN.columns.values\n",
    "feature_columns = []\n",
    "for i in columns:\n",
    "    feat = tf.feature_column.numeric_column(i)\n",
    "    feature_columns.append(feat)"
   ]
  },
  {
   "cell_type": "code",
   "execution_count": 108,
   "metadata": {},
   "outputs": [
    {
     "name": "stdout",
     "output_type": "stream",
     "text": [
      "Data size:  1003 \n",
      "Train Size:  802 \n",
      "Eval Size:  201 \n",
      "Steps:  16040\n"
     ]
    }
   ],
   "source": [
    "data_size = int(TARGET.shape[0] * 0.000008)\n",
    "C = int(TARGET.shape[0] - (data_size*0.2))\n",
    "A = int(TARGET.shape[0] - data_size - 1)\n",
    "B = C - 1\n",
    "\n",
    "x_train = TRAIN[A:B]\n",
    "y_train = TARGET[A:B]\n",
    "x_eval = TRAIN[C:]\n",
    "y_eval = TARGET[C:]\n",
    "\n",
    "learning_rate = 0.01\n",
    "dropout = 0.85\n",
    "batch_size = 2\n",
    "epochs = 40\n",
    "steps = int(len(x_train) / batch_size * epochs) # data size / batch_size * epochs\n",
    "\n",
    "print(\"Data size: \", data_size, \"\\nTrain Size: \", len(x_train), \"\\nEval Size: \", len(x_eval), \"\\nSteps: \", steps)"
   ]
  },
  {
   "cell_type": "code",
   "execution_count": 109,
   "metadata": {},
   "outputs": [
    {
     "name": "stdout",
     "output_type": "stream",
     "text": [
      "INFO:tensorflow:Using default config.\n",
      "INFO:tensorflow:Using config: {'_model_dir': 'model_dir/', '_tf_random_seed': None, '_save_summary_steps': 100, '_save_checkpoints_steps': None, '_save_checkpoints_secs': 600, '_session_config': None, '_keep_checkpoint_max': 5, '_keep_checkpoint_every_n_hours': 10000, '_log_step_count_steps': 100, '_service': None, '_cluster_spec': <tensorflow.python.training.server_lib.ClusterSpec object at 0x7f1a6cb31b38>, '_task_type': 'worker', '_task_id': 0, '_global_id_in_cluster': 0, '_master': '', '_evaluation_master': '', '_is_chief': True, '_num_ps_replicas': 0, '_num_worker_replicas': 1}\n"
     ]
    }
   ],
   "source": [
    "estimator = tf.estimator.DNNRegressor(hidden_units=[100,50,20,10],\n",
    "                                      feature_columns=feature_columns,\n",
    "                                      model_dir=\"model_dir/\",\n",
    "                                      label_dimension=1,\n",
    "                                      optimizer=tf.train.AdamOptimizer(learning_rate=learning_rate),\n",
    "                                      dropout=dropout,\n",
    "                                      # activation_fn=tf.nn.relu\n",
    "                                      \n",
    "                                     )"
   ]
  },
  {
   "cell_type": "code",
   "execution_count": 110,
   "metadata": {
    "collapsed": true
   },
   "outputs": [],
   "source": [
    "input_fn = tf.estimator.inputs.pandas_input_fn(\n",
    "    x_train, y_train, batch_size=batch_size, num_epochs=None, shuffle=True)\n",
    "\n",
    "train_input_fn = tf.estimator.inputs.pandas_input_fn(\n",
    "    x_train, y_train, batch_size=batch_size, num_epochs=epochs, shuffle=False)\n",
    "\n",
    "eval_input_fn = tf.estimator.inputs.pandas_input_fn(\n",
    "    x_eval, y_eval, batch_size=batch_size, num_epochs=epochs, shuffle=False)"
   ]
  },
  {
   "cell_type": "code",
   "execution_count": 111,
   "metadata": {
    "scrolled": true
   },
   "outputs": [
    {
     "name": "stdout",
     "output_type": "stream",
     "text": [
      "INFO:tensorflow:Calling model_fn.\n",
      "INFO:tensorflow:Done calling model_fn.\n",
      "INFO:tensorflow:Create CheckpointSaverHook.\n",
      "INFO:tensorflow:Graph was finalized.\n",
      "INFO:tensorflow:Running local_init_op.\n",
      "INFO:tensorflow:Done running local_init_op.\n",
      "INFO:tensorflow:Saving checkpoints for 1 into model_dir/model.ckpt.\n",
      "INFO:tensorflow:loss = 1.6288352e+18, step = 1\n",
      "INFO:tensorflow:global_step/sec: 100.614\n",
      "INFO:tensorflow:loss = 4085112000000000.0, step = 101 (1.008 sec)\n",
      "INFO:tensorflow:global_step/sec: 133.647\n",
      "INFO:tensorflow:loss = 40546.668, step = 201 (0.754 sec)\n",
      "INFO:tensorflow:global_step/sec: 133.307\n",
      "INFO:tensorflow:loss = 92654180000000.0, step = 301 (0.744 sec)\n",
      "INFO:tensorflow:global_step/sec: 135.287\n",
      "INFO:tensorflow:loss = 53.779217, step = 401 (0.739 sec)\n",
      "INFO:tensorflow:global_step/sec: 136.076\n",
      "INFO:tensorflow:loss = 388.8812, step = 501 (0.735 sec)\n",
      "INFO:tensorflow:global_step/sec: 135.331\n",
      "INFO:tensorflow:loss = 210350840000000.0, step = 601 (0.745 sec)\n",
      "INFO:tensorflow:global_step/sec: 135.753\n",
      "INFO:tensorflow:loss = 9.960131, step = 701 (0.738 sec)\n",
      "INFO:tensorflow:global_step/sec: 139.913\n",
      "INFO:tensorflow:loss = 229.17609, step = 801 (0.714 sec)\n",
      "INFO:tensorflow:global_step/sec: 133.731\n",
      "INFO:tensorflow:loss = 694909740000000.0, step = 901 (0.741 sec)\n",
      "INFO:tensorflow:global_step/sec: 133.191\n",
      "INFO:tensorflow:loss = 127.18159, step = 1001 (0.751 sec)\n",
      "INFO:tensorflow:global_step/sec: 135.356\n",
      "INFO:tensorflow:loss = 18.984331, step = 1101 (0.737 sec)\n",
      "INFO:tensorflow:global_step/sec: 135.795\n",
      "INFO:tensorflow:loss = 586324050000.0, step = 1201 (0.743 sec)\n",
      "INFO:tensorflow:global_step/sec: 134.282\n",
      "INFO:tensorflow:loss = 13.849459, step = 1301 (0.738 sec)\n",
      "INFO:tensorflow:global_step/sec: 136.508\n",
      "INFO:tensorflow:loss = 3.2000856, step = 1401 (0.732 sec)\n",
      "INFO:tensorflow:global_step/sec: 135.993\n",
      "INFO:tensorflow:loss = 80653910000000.0, step = 1501 (0.736 sec)\n",
      "INFO:tensorflow:global_step/sec: 137.664\n",
      "INFO:tensorflow:loss = 4539132400000.0, step = 1601 (0.726 sec)\n",
      "INFO:tensorflow:global_step/sec: 140.602\n",
      "INFO:tensorflow:loss = 138.07, step = 1701 (0.711 sec)\n",
      "INFO:tensorflow:global_step/sec: 138.055\n",
      "INFO:tensorflow:loss = 5435024700000.0, step = 1801 (0.725 sec)\n",
      "INFO:tensorflow:global_step/sec: 139.923\n",
      "INFO:tensorflow:loss = 50.13481, step = 1901 (0.726 sec)\n",
      "INFO:tensorflow:global_step/sec: 134.009\n",
      "INFO:tensorflow:loss = 13999.578, step = 2001 (0.735 sec)\n",
      "INFO:tensorflow:global_step/sec: 137.425\n",
      "INFO:tensorflow:loss = 15.659533, step = 2101 (0.727 sec)\n",
      "INFO:tensorflow:global_step/sec: 139.23\n",
      "INFO:tensorflow:loss = 15.751034, step = 2201 (0.724 sec)\n",
      "INFO:tensorflow:global_step/sec: 139.05\n",
      "INFO:tensorflow:loss = 57.87859, step = 2301 (0.719 sec)\n",
      "INFO:tensorflow:global_step/sec: 136.277\n",
      "INFO:tensorflow:loss = 2054402300.0, step = 2401 (0.728 sec)\n",
      "INFO:tensorflow:global_step/sec: 133.012\n",
      "INFO:tensorflow:loss = 14.119475, step = 2501 (0.752 sec)\n",
      "INFO:tensorflow:global_step/sec: 134.183\n",
      "INFO:tensorflow:loss = 49.80411, step = 2601 (0.745 sec)\n",
      "INFO:tensorflow:global_step/sec: 133.977\n",
      "INFO:tensorflow:loss = 69.84902, step = 2701 (0.751 sec)\n",
      "INFO:tensorflow:global_step/sec: 133.016\n",
      "INFO:tensorflow:loss = 6.7026277, step = 2801 (0.746 sec)\n",
      "INFO:tensorflow:global_step/sec: 132.4\n",
      "INFO:tensorflow:loss = 57.430958, step = 2901 (0.756 sec)\n",
      "INFO:tensorflow:global_step/sec: 132.225\n",
      "INFO:tensorflow:loss = 12.003127, step = 3001 (0.762 sec)\n",
      "INFO:tensorflow:global_step/sec: 130.774\n",
      "INFO:tensorflow:loss = 12.181844, step = 3101 (0.761 sec)\n",
      "INFO:tensorflow:global_step/sec: 133.895\n",
      "INFO:tensorflow:loss = 18.99313, step = 3201 (0.751 sec)\n",
      "INFO:tensorflow:global_step/sec: 135.547\n",
      "INFO:tensorflow:loss = 5119762000.0, step = 3301 (0.731 sec)\n",
      "INFO:tensorflow:global_step/sec: 136.237\n",
      "INFO:tensorflow:loss = 250.6702, step = 3401 (0.734 sec)\n",
      "INFO:tensorflow:global_step/sec: 140.513\n",
      "INFO:tensorflow:loss = 266.36905, step = 3501 (0.717 sec)\n",
      "INFO:tensorflow:global_step/sec: 92.8229\n",
      "INFO:tensorflow:loss = 66.82897, step = 3601 (1.072 sec)\n",
      "INFO:tensorflow:global_step/sec: 136.803\n",
      "INFO:tensorflow:loss = 32.793278, step = 3701 (0.732 sec)\n",
      "INFO:tensorflow:global_step/sec: 137.192\n",
      "INFO:tensorflow:loss = 691.24884, step = 3801 (0.728 sec)\n",
      "INFO:tensorflow:global_step/sec: 134.744\n",
      "INFO:tensorflow:loss = 33.07204, step = 3901 (0.743 sec)\n",
      "INFO:tensorflow:global_step/sec: 138.352\n",
      "INFO:tensorflow:loss = 11035712000000.0, step = 4001 (0.721 sec)\n",
      "INFO:tensorflow:global_step/sec: 137.2\n",
      "INFO:tensorflow:loss = 204.29321, step = 4101 (0.731 sec)\n",
      "INFO:tensorflow:global_step/sec: 137.344\n",
      "INFO:tensorflow:loss = 2781.7278, step = 4201 (0.728 sec)\n",
      "INFO:tensorflow:global_step/sec: 136.654\n",
      "INFO:tensorflow:loss = 46.295696, step = 4301 (0.731 sec)\n",
      "INFO:tensorflow:global_step/sec: 134.558\n",
      "INFO:tensorflow:loss = 105.046036, step = 4401 (0.745 sec)\n",
      "INFO:tensorflow:global_step/sec: 137.36\n",
      "INFO:tensorflow:loss = 12.65816, step = 4501 (0.726 sec)\n",
      "INFO:tensorflow:global_step/sec: 142.199\n",
      "INFO:tensorflow:loss = 20.248152, step = 4601 (0.703 sec)\n",
      "INFO:tensorflow:global_step/sec: 137.713\n",
      "INFO:tensorflow:loss = 23.920586, step = 4701 (0.726 sec)\n",
      "INFO:tensorflow:global_step/sec: 140.425\n",
      "INFO:tensorflow:loss = 111.639694, step = 4801 (0.712 sec)\n",
      "INFO:tensorflow:global_step/sec: 137.095\n",
      "INFO:tensorflow:loss = 181.98465, step = 4901 (0.735 sec)\n",
      "INFO:tensorflow:global_step/sec: 139.056\n",
      "INFO:tensorflow:loss = 45.380672, step = 5001 (0.713 sec)\n",
      "INFO:tensorflow:global_step/sec: 140.615\n",
      "INFO:tensorflow:loss = 12.914392, step = 5101 (0.717 sec)\n",
      "INFO:tensorflow:global_step/sec: 137.005\n",
      "INFO:tensorflow:loss = 92.2865, step = 5201 (0.724 sec)\n",
      "INFO:tensorflow:global_step/sec: 141.028\n",
      "INFO:tensorflow:loss = 12651.024, step = 5301 (0.708 sec)\n",
      "INFO:tensorflow:global_step/sec: 138.988\n",
      "INFO:tensorflow:loss = 16.749546, step = 5401 (0.721 sec)\n",
      "INFO:tensorflow:global_step/sec: 138.026\n",
      "INFO:tensorflow:loss = 53565.348, step = 5501 (0.724 sec)\n",
      "INFO:tensorflow:global_step/sec: 136.73\n",
      "INFO:tensorflow:loss = 558.3498, step = 5601 (0.739 sec)\n",
      "INFO:tensorflow:global_step/sec: 137.902\n",
      "INFO:tensorflow:loss = 7.9423223, step = 5701 (0.719 sec)\n",
      "INFO:tensorflow:global_step/sec: 136.002\n",
      "INFO:tensorflow:loss = 425.6766, step = 5801 (0.736 sec)\n",
      "INFO:tensorflow:global_step/sec: 139.072\n",
      "INFO:tensorflow:loss = 6519.377, step = 5901 (0.726 sec)\n",
      "INFO:tensorflow:global_step/sec: 136.475\n",
      "INFO:tensorflow:loss = 161.76387, step = 6001 (0.724 sec)\n",
      "INFO:tensorflow:global_step/sec: 142.702\n",
      "INFO:tensorflow:loss = 92.43043, step = 6101 (0.701 sec)\n",
      "INFO:tensorflow:global_step/sec: 139.891\n",
      "INFO:tensorflow:loss = 44.456, step = 6201 (0.715 sec)\n",
      "INFO:tensorflow:global_step/sec: 141.843\n",
      "INFO:tensorflow:loss = 72.75642, step = 6301 (0.707 sec)\n",
      "INFO:tensorflow:global_step/sec: 139.812\n",
      "INFO:tensorflow:loss = 918.9197, step = 6401 (0.715 sec)\n",
      "INFO:tensorflow:global_step/sec: 136.704\n",
      "INFO:tensorflow:loss = 35.08185, step = 6501 (0.731 sec)\n",
      "INFO:tensorflow:global_step/sec: 139.034\n",
      "INFO:tensorflow:loss = 36616390000.0, step = 6601 (0.719 sec)\n",
      "INFO:tensorflow:global_step/sec: 137.12\n",
      "INFO:tensorflow:loss = 44625410000000.0, step = 6701 (0.736 sec)\n",
      "INFO:tensorflow:global_step/sec: 135.815\n",
      "INFO:tensorflow:loss = 8.21379, step = 6801 (0.736 sec)\n",
      "INFO:tensorflow:global_step/sec: 137.154\n",
      "INFO:tensorflow:loss = 41.389706, step = 6901 (0.722 sec)\n",
      "INFO:tensorflow:global_step/sec: 137.376\n",
      "INFO:tensorflow:loss = 77.477615, step = 7001 (0.729 sec)\n",
      "INFO:tensorflow:global_step/sec: 138.328\n",
      "INFO:tensorflow:loss = 420834540000.0, step = 7101 (0.723 sec)\n",
      "INFO:tensorflow:global_step/sec: 142.034\n",
      "INFO:tensorflow:loss = 33.21095, step = 7201 (0.702 sec)\n",
      "INFO:tensorflow:global_step/sec: 142.257\n",
      "INFO:tensorflow:loss = 295.391, step = 7301 (0.709 sec)\n",
      "INFO:tensorflow:global_step/sec: 137.591\n",
      "INFO:tensorflow:loss = 23.623558, step = 7401 (0.727 sec)\n",
      "INFO:tensorflow:global_step/sec: 139.336\n",
      "INFO:tensorflow:loss = 47.233665, step = 7501 (0.712 sec)\n",
      "INFO:tensorflow:global_step/sec: 138.815\n",
      "INFO:tensorflow:loss = 10.224838, step = 7601 (0.720 sec)\n",
      "INFO:tensorflow:global_step/sec: 137.85\n",
      "INFO:tensorflow:loss = 163.51636, step = 7701 (0.726 sec)\n",
      "INFO:tensorflow:global_step/sec: 94.9137\n",
      "INFO:tensorflow:loss = 4179983900000.0, step = 7801 (1.053 sec)\n",
      "INFO:tensorflow:global_step/sec: 138.307\n",
      "INFO:tensorflow:loss = 50555.266, step = 7901 (0.727 sec)\n"
     ]
    },
    {
     "name": "stdout",
     "output_type": "stream",
     "text": [
      "INFO:tensorflow:global_step/sec: 140.636\n",
      "INFO:tensorflow:loss = 220444.12, step = 8001 (0.706 sec)\n",
      "INFO:tensorflow:global_step/sec: 137.289\n",
      "INFO:tensorflow:loss = 3515802200000.0, step = 8101 (0.730 sec)\n",
      "INFO:tensorflow:global_step/sec: 134.787\n",
      "INFO:tensorflow:loss = 5.475316, step = 8201 (0.740 sec)\n",
      "INFO:tensorflow:global_step/sec: 137.962\n",
      "INFO:tensorflow:loss = 68.61068, step = 8301 (0.727 sec)\n",
      "INFO:tensorflow:global_step/sec: 138.705\n",
      "INFO:tensorflow:loss = 37.95049, step = 8401 (0.721 sec)\n",
      "INFO:tensorflow:global_step/sec: 135.871\n",
      "INFO:tensorflow:loss = 14115.208, step = 8501 (0.734 sec)\n",
      "INFO:tensorflow:global_step/sec: 134.788\n",
      "INFO:tensorflow:loss = 91.38566, step = 8601 (0.736 sec)\n",
      "INFO:tensorflow:global_step/sec: 137.826\n",
      "INFO:tensorflow:loss = 218081.56, step = 8701 (0.732 sec)\n",
      "INFO:tensorflow:global_step/sec: 138.775\n",
      "INFO:tensorflow:loss = 17.692385, step = 8801 (0.727 sec)\n",
      "INFO:tensorflow:global_step/sec: 137.586\n",
      "INFO:tensorflow:loss = 38.127426, step = 8901 (0.722 sec)\n",
      "INFO:tensorflow:global_step/sec: 137.477\n",
      "INFO:tensorflow:loss = 11.681798, step = 9001 (0.732 sec)\n",
      "INFO:tensorflow:global_step/sec: 137.205\n",
      "INFO:tensorflow:loss = 11.921234, step = 9101 (0.722 sec)\n",
      "INFO:tensorflow:global_step/sec: 135.084\n",
      "INFO:tensorflow:loss = 106.46238, step = 9201 (0.746 sec)\n",
      "INFO:tensorflow:global_step/sec: 140.028\n",
      "INFO:tensorflow:loss = 103.35033, step = 9301 (0.709 sec)\n",
      "INFO:tensorflow:global_step/sec: 142.333\n",
      "INFO:tensorflow:loss = 66.25998, step = 9401 (0.703 sec)\n",
      "INFO:tensorflow:global_step/sec: 135.004\n",
      "INFO:tensorflow:loss = 289.31268, step = 9501 (0.742 sec)\n",
      "INFO:tensorflow:global_step/sec: 137.207\n",
      "INFO:tensorflow:loss = 10964305000.0, step = 9601 (0.734 sec)\n",
      "INFO:tensorflow:global_step/sec: 140.163\n",
      "INFO:tensorflow:loss = 257.91965, step = 9701 (0.708 sec)\n",
      "INFO:tensorflow:global_step/sec: 137.482\n",
      "INFO:tensorflow:loss = 578.4585, step = 9801 (0.727 sec)\n",
      "INFO:tensorflow:global_step/sec: 134.262\n",
      "INFO:tensorflow:loss = 7.1286, step = 9901 (0.750 sec)\n",
      "INFO:tensorflow:global_step/sec: 135.118\n",
      "INFO:tensorflow:loss = 12.130297, step = 10001 (0.740 sec)\n",
      "INFO:tensorflow:global_step/sec: 138.967\n",
      "INFO:tensorflow:loss = 95.08798, step = 10101 (0.714 sec)\n",
      "INFO:tensorflow:global_step/sec: 134.854\n",
      "INFO:tensorflow:loss = 15.575433, step = 10201 (0.741 sec)\n",
      "INFO:tensorflow:global_step/sec: 137.279\n",
      "INFO:tensorflow:loss = 11.075758, step = 10301 (0.734 sec)\n",
      "INFO:tensorflow:global_step/sec: 135.638\n",
      "INFO:tensorflow:loss = 11.121917, step = 10401 (0.731 sec)\n",
      "INFO:tensorflow:global_step/sec: 138.159\n",
      "INFO:tensorflow:loss = 18.049284, step = 10501 (0.724 sec)\n",
      "INFO:tensorflow:global_step/sec: 139.954\n",
      "INFO:tensorflow:loss = 62.134106, step = 10601 (0.716 sec)\n",
      "INFO:tensorflow:global_step/sec: 140.185\n",
      "INFO:tensorflow:loss = 86.6765, step = 10701 (0.713 sec)\n",
      "INFO:tensorflow:global_step/sec: 140.017\n",
      "INFO:tensorflow:loss = 69.17431, step = 10801 (0.715 sec)\n",
      "INFO:tensorflow:global_step/sec: 137.873\n",
      "INFO:tensorflow:loss = 18.256126, step = 10901 (0.713 sec)\n",
      "INFO:tensorflow:global_step/sec: 144.181\n",
      "INFO:tensorflow:loss = 577.11035, step = 11001 (0.699 sec)\n",
      "INFO:tensorflow:global_step/sec: 130.706\n",
      "INFO:tensorflow:loss = 94.21721, step = 11101 (0.759 sec)\n",
      "INFO:tensorflow:global_step/sec: 137.239\n",
      "INFO:tensorflow:loss = 17.902508, step = 11201 (0.735 sec)\n",
      "INFO:tensorflow:global_step/sec: 130.883\n",
      "INFO:tensorflow:loss = 56.527824, step = 11301 (0.765 sec)\n",
      "INFO:tensorflow:global_step/sec: 138.196\n",
      "INFO:tensorflow:loss = 22.342201, step = 11401 (0.729 sec)\n",
      "INFO:tensorflow:global_step/sec: 134.858\n",
      "INFO:tensorflow:loss = 257.48898, step = 11501 (0.742 sec)\n",
      "INFO:tensorflow:global_step/sec: 133.652\n",
      "INFO:tensorflow:loss = 39.875618, step = 11601 (0.742 sec)\n",
      "INFO:tensorflow:global_step/sec: 137.16\n",
      "INFO:tensorflow:loss = 312349920000.0, step = 11701 (0.729 sec)\n",
      "INFO:tensorflow:global_step/sec: 139.634\n",
      "INFO:tensorflow:loss = 542.1341, step = 11801 (0.716 sec)\n",
      "INFO:tensorflow:global_step/sec: 142.616\n",
      "INFO:tensorflow:loss = 19.47834, step = 11901 (0.708 sec)\n",
      "INFO:tensorflow:global_step/sec: 90.9827\n",
      "INFO:tensorflow:loss = 28.462673, step = 12001 (1.100 sec)\n",
      "INFO:tensorflow:global_step/sec: 139.919\n",
      "INFO:tensorflow:loss = 33.381653, step = 12101 (0.715 sec)\n",
      "INFO:tensorflow:global_step/sec: 139.374\n",
      "INFO:tensorflow:loss = 295.86368, step = 12201 (0.710 sec)\n",
      "INFO:tensorflow:global_step/sec: 123.617\n",
      "INFO:tensorflow:loss = 21.078465, step = 12301 (0.802 sec)\n",
      "INFO:tensorflow:global_step/sec: 129.961\n",
      "INFO:tensorflow:loss = 60.157883, step = 12401 (0.776 sec)\n",
      "INFO:tensorflow:global_step/sec: 136.856\n",
      "INFO:tensorflow:loss = 227.60625, step = 12501 (0.731 sec)\n",
      "INFO:tensorflow:global_step/sec: 142.732\n",
      "INFO:tensorflow:loss = 371.49542, step = 12601 (0.707 sec)\n",
      "INFO:tensorflow:global_step/sec: 141.909\n",
      "INFO:tensorflow:loss = 14.78941, step = 12701 (0.703 sec)\n",
      "INFO:tensorflow:global_step/sec: 135.457\n",
      "INFO:tensorflow:loss = 36.639664, step = 12801 (0.735 sec)\n",
      "INFO:tensorflow:global_step/sec: 133.479\n",
      "INFO:tensorflow:loss = 21.936363, step = 12901 (0.747 sec)\n",
      "INFO:tensorflow:global_step/sec: 143.943\n",
      "INFO:tensorflow:loss = 220.49568, step = 13001 (0.694 sec)\n",
      "INFO:tensorflow:global_step/sec: 138.424\n",
      "INFO:tensorflow:loss = 44.86207, step = 13101 (0.729 sec)\n",
      "INFO:tensorflow:global_step/sec: 138.48\n",
      "INFO:tensorflow:loss = 174.99683, step = 13201 (0.716 sec)\n",
      "INFO:tensorflow:global_step/sec: 139.514\n",
      "INFO:tensorflow:loss = 37.064713, step = 13301 (0.717 sec)\n",
      "INFO:tensorflow:global_step/sec: 131.151\n",
      "INFO:tensorflow:loss = 140.799, step = 13401 (0.763 sec)\n",
      "INFO:tensorflow:global_step/sec: 142.783\n",
      "INFO:tensorflow:loss = 16.955515, step = 13501 (0.706 sec)\n",
      "INFO:tensorflow:global_step/sec: 137.795\n",
      "INFO:tensorflow:loss = 25.212486, step = 13601 (0.720 sec)\n",
      "INFO:tensorflow:global_step/sec: 135.393\n",
      "INFO:tensorflow:loss = 30.238605, step = 13701 (0.738 sec)\n",
      "INFO:tensorflow:global_step/sec: 129.549\n",
      "INFO:tensorflow:loss = 36.653763, step = 13801 (0.779 sec)\n",
      "INFO:tensorflow:global_step/sec: 135.944\n",
      "INFO:tensorflow:loss = 16.747585, step = 13901 (0.735 sec)\n",
      "INFO:tensorflow:global_step/sec: 135.904\n",
      "INFO:tensorflow:loss = 16.655918, step = 14001 (0.736 sec)\n",
      "INFO:tensorflow:global_step/sec: 133.909\n",
      "INFO:tensorflow:loss = 112.429306, step = 14101 (0.739 sec)\n",
      "INFO:tensorflow:global_step/sec: 137.527\n",
      "INFO:tensorflow:loss = 45.77034, step = 14201 (0.727 sec)\n",
      "INFO:tensorflow:global_step/sec: 129.108\n",
      "INFO:tensorflow:loss = 11.843119, step = 14301 (0.768 sec)\n",
      "INFO:tensorflow:global_step/sec: 138.062\n",
      "INFO:tensorflow:loss = 266.99606, step = 14401 (0.731 sec)\n",
      "INFO:tensorflow:global_step/sec: 132.308\n",
      "INFO:tensorflow:loss = 61.515476, step = 14501 (0.757 sec)\n",
      "INFO:tensorflow:global_step/sec: 129.692\n",
      "INFO:tensorflow:loss = 39.632034, step = 14601 (0.770 sec)\n",
      "INFO:tensorflow:global_step/sec: 135.789\n",
      "INFO:tensorflow:loss = 25.63654, step = 14701 (0.737 sec)\n",
      "INFO:tensorflow:global_step/sec: 141.84\n",
      "INFO:tensorflow:loss = 25.927437, step = 14801 (0.705 sec)\n",
      "INFO:tensorflow:global_step/sec: 142.481\n",
      "INFO:tensorflow:loss = 23.868198, step = 14901 (0.702 sec)\n",
      "INFO:tensorflow:global_step/sec: 138.288\n",
      "INFO:tensorflow:loss = 269.49292, step = 15001 (0.723 sec)\n",
      "INFO:tensorflow:global_step/sec: 143.37\n",
      "INFO:tensorflow:loss = 101.20717, step = 15101 (0.696 sec)\n",
      "INFO:tensorflow:global_step/sec: 142.855\n",
      "INFO:tensorflow:loss = 47.31608, step = 15201 (0.706 sec)\n",
      "INFO:tensorflow:global_step/sec: 137.104\n",
      "INFO:tensorflow:loss = 17.84007, step = 15301 (0.731 sec)\n",
      "INFO:tensorflow:global_step/sec: 139.726\n",
      "INFO:tensorflow:loss = 83.374695, step = 15401 (0.708 sec)\n",
      "INFO:tensorflow:global_step/sec: 138.985\n",
      "INFO:tensorflow:loss = 137.67577, step = 15501 (0.720 sec)\n",
      "INFO:tensorflow:global_step/sec: 140.808\n",
      "INFO:tensorflow:loss = 10.886654, step = 15601 (0.711 sec)\n",
      "INFO:tensorflow:global_step/sec: 143.59\n",
      "INFO:tensorflow:loss = 18.13272, step = 15701 (0.701 sec)\n",
      "INFO:tensorflow:global_step/sec: 138.149\n",
      "INFO:tensorflow:loss = 14.687946, step = 15801 (0.725 sec)\n",
      "INFO:tensorflow:global_step/sec: 139.719\n",
      "INFO:tensorflow:loss = 39.611164, step = 15901 (0.717 sec)\n",
      "INFO:tensorflow:global_step/sec: 135.092\n",
      "INFO:tensorflow:loss = 364.96057, step = 16001 (0.739 sec)\n",
      "INFO:tensorflow:Saving checkpoints for 16040 into model_dir/model.ckpt.\n",
      "INFO:tensorflow:Loss for final step: 14.193419.\n"
     ]
    },
    {
     "data": {
      "text/plain": [
       "<tensorflow.python.estimator.canned.dnn.DNNRegressor at 0x7f1a6cb31278>"
      ]
     },
     "execution_count": 111,
     "metadata": {},
     "output_type": "execute_result"
    }
   ],
   "source": [
    "# Documentation seems to suggest that the input_fn should go to estimator.train(), \n",
    "# with no epochs, and the data shuffled...\n",
    "# but for some reason we pass train_input_fn in to estimator.train()\n",
    "\n",
    "estimator.train(input_fn=input_fn, steps=steps)"
   ]
  },
  {
   "cell_type": "code",
   "execution_count": 112,
   "metadata": {},
   "outputs": [
    {
     "name": "stdout",
     "output_type": "stream",
     "text": [
      "INFO:tensorflow:Calling model_fn.\n",
      "INFO:tensorflow:Done calling model_fn.\n",
      "INFO:tensorflow:Starting evaluation at 2018-05-01-00:46:43\n",
      "INFO:tensorflow:Graph was finalized.\n",
      "INFO:tensorflow:Restoring parameters from model_dir/model.ckpt-16040\n",
      "INFO:tensorflow:Running local_init_op.\n",
      "INFO:tensorflow:Done running local_init_op.\n",
      "INFO:tensorflow:Finished evaluation at 2018-05-01-00:48:37\n",
      "INFO:tensorflow:Saving dict for global step 16040: average_loss = 742.5275, global_step = 16040, loss = 1485.055\n",
      "INFO:tensorflow:Calling model_fn.\n",
      "INFO:tensorflow:Done calling model_fn.\n",
      "INFO:tensorflow:Starting evaluation at 2018-05-01-00:48:38\n",
      "INFO:tensorflow:Graph was finalized.\n",
      "INFO:tensorflow:Restoring parameters from model_dir/model.ckpt-16040\n",
      "INFO:tensorflow:Running local_init_op.\n",
      "INFO:tensorflow:Done running local_init_op.\n",
      "INFO:tensorflow:Finished evaluation at 2018-05-01-00:49:07\n",
      "INFO:tensorflow:Saving dict for global step 16040: average_loss = 20314.953, global_step = 16040, loss = 40629.906\n",
      "train metrics: {'average_loss': 742.5275, 'loss': 1485.055, 'global_step': 16040}\n",
      "eval metrics: {'average_loss': 20314.953, 'loss': 40629.906, 'global_step': 16040}\n"
     ]
    }
   ],
   "source": [
    "train_metrics = estimator.evaluate(input_fn=train_input_fn)\n",
    "eval_metrics = estimator.evaluate(input_fn=eval_input_fn)\n",
    "print(\"train metrics: %r\"% train_metrics)\n",
    "print(\"eval metrics: %r\"% eval_metrics)"
   ]
  },
  {
   "cell_type": "markdown",
   "metadata": {},
   "source": [
    "# Test model"
   ]
  },
  {
   "cell_type": "code",
   "execution_count": 113,
   "metadata": {
    "collapsed": true
   },
   "outputs": [],
   "source": [
    "pred_input_fn = tf.estimator.inputs.pandas_input_fn(\n",
    "    TEST[:25], shuffle=False)"
   ]
  },
  {
   "cell_type": "code",
   "execution_count": 114,
   "metadata": {},
   "outputs": [
    {
     "name": "stdout",
     "output_type": "stream",
     "text": [
      "INFO:tensorflow:Calling model_fn.\n",
      "INFO:tensorflow:Done calling model_fn.\n",
      "INFO:tensorflow:Graph was finalized.\n",
      "INFO:tensorflow:Restoring parameters from model_dir/model.ckpt-16040\n",
      "INFO:tensorflow:Running local_init_op.\n",
      "INFO:tensorflow:Done running local_init_op.\n"
     ]
    }
   ],
   "source": [
    "predictions = list(estimator.predict(input_fn=pred_input_fn))"
   ]
  },
  {
   "cell_type": "code",
   "execution_count": 115,
   "metadata": {
    "collapsed": true
   },
   "outputs": [],
   "source": [
    "predict_df = pd.DataFrame([i['predictions'][0] for i in predictions])"
   ]
  },
  {
   "cell_type": "code",
   "execution_count": 116,
   "metadata": {},
   "outputs": [
    {
     "data": {
      "text/html": [
       "<div>\n",
       "<style>\n",
       "    .dataframe thead tr:only-child th {\n",
       "        text-align: right;\n",
       "    }\n",
       "\n",
       "    .dataframe thead th {\n",
       "        text-align: left;\n",
       "    }\n",
       "\n",
       "    .dataframe tbody tr th {\n",
       "        vertical-align: top;\n",
       "    }\n",
       "</style>\n",
       "<table border=\"1\" class=\"dataframe\">\n",
       "  <thead>\n",
       "    <tr style=\"text-align: right;\">\n",
       "      <th></th>\n",
       "      <th>0</th>\n",
       "    </tr>\n",
       "  </thead>\n",
       "  <tbody>\n",
       "    <tr>\n",
       "      <th>0</th>\n",
       "      <td>-1.341448</td>\n",
       "    </tr>\n",
       "    <tr>\n",
       "      <th>1</th>\n",
       "      <td>-1.341448</td>\n",
       "    </tr>\n",
       "    <tr>\n",
       "      <th>2</th>\n",
       "      <td>-1.341448</td>\n",
       "    </tr>\n",
       "    <tr>\n",
       "      <th>3</th>\n",
       "      <td>-1.341448</td>\n",
       "    </tr>\n",
       "    <tr>\n",
       "      <th>4</th>\n",
       "      <td>-1.341448</td>\n",
       "    </tr>\n",
       "    <tr>\n",
       "      <th>5</th>\n",
       "      <td>-1.341448</td>\n",
       "    </tr>\n",
       "    <tr>\n",
       "      <th>6</th>\n",
       "      <td>-1.341448</td>\n",
       "    </tr>\n",
       "    <tr>\n",
       "      <th>7</th>\n",
       "      <td>-1.341448</td>\n",
       "    </tr>\n",
       "    <tr>\n",
       "      <th>8</th>\n",
       "      <td>-1.341448</td>\n",
       "    </tr>\n",
       "    <tr>\n",
       "      <th>9</th>\n",
       "      <td>-1.341448</td>\n",
       "    </tr>\n",
       "    <tr>\n",
       "      <th>10</th>\n",
       "      <td>-1.341448</td>\n",
       "    </tr>\n",
       "    <tr>\n",
       "      <th>11</th>\n",
       "      <td>-1.341448</td>\n",
       "    </tr>\n",
       "    <tr>\n",
       "      <th>12</th>\n",
       "      <td>-1.341448</td>\n",
       "    </tr>\n",
       "    <tr>\n",
       "      <th>13</th>\n",
       "      <td>-1.341448</td>\n",
       "    </tr>\n",
       "    <tr>\n",
       "      <th>14</th>\n",
       "      <td>-1.341448</td>\n",
       "    </tr>\n",
       "    <tr>\n",
       "      <th>15</th>\n",
       "      <td>-1.341448</td>\n",
       "    </tr>\n",
       "    <tr>\n",
       "      <th>16</th>\n",
       "      <td>-1.341448</td>\n",
       "    </tr>\n",
       "    <tr>\n",
       "      <th>17</th>\n",
       "      <td>-1.341448</td>\n",
       "    </tr>\n",
       "    <tr>\n",
       "      <th>18</th>\n",
       "      <td>-1.341448</td>\n",
       "    </tr>\n",
       "    <tr>\n",
       "      <th>19</th>\n",
       "      <td>-1.341448</td>\n",
       "    </tr>\n",
       "    <tr>\n",
       "      <th>20</th>\n",
       "      <td>-1.341448</td>\n",
       "    </tr>\n",
       "    <tr>\n",
       "      <th>21</th>\n",
       "      <td>-1.341448</td>\n",
       "    </tr>\n",
       "    <tr>\n",
       "      <th>22</th>\n",
       "      <td>-1.341448</td>\n",
       "    </tr>\n",
       "    <tr>\n",
       "      <th>23</th>\n",
       "      <td>-1.341448</td>\n",
       "    </tr>\n",
       "    <tr>\n",
       "      <th>24</th>\n",
       "      <td>-1.341448</td>\n",
       "    </tr>\n",
       "  </tbody>\n",
       "</table>\n",
       "</div>"
      ],
      "text/plain": [
       "           0\n",
       "0  -1.341448\n",
       "1  -1.341448\n",
       "2  -1.341448\n",
       "3  -1.341448\n",
       "4  -1.341448\n",
       "5  -1.341448\n",
       "6  -1.341448\n",
       "7  -1.341448\n",
       "8  -1.341448\n",
       "9  -1.341448\n",
       "10 -1.341448\n",
       "11 -1.341448\n",
       "12 -1.341448\n",
       "13 -1.341448\n",
       "14 -1.341448\n",
       "15 -1.341448\n",
       "16 -1.341448\n",
       "17 -1.341448\n",
       "18 -1.341448\n",
       "19 -1.341448\n",
       "20 -1.341448\n",
       "21 -1.341448\n",
       "22 -1.341448\n",
       "23 -1.341448\n",
       "24 -1.341448"
      ]
     },
     "execution_count": 116,
     "metadata": {},
     "output_type": "execute_result"
    }
   ],
   "source": [
    "predict_df"
   ]
  },
  {
   "cell_type": "code",
   "execution_count": null,
   "metadata": {
    "collapsed": true
   },
   "outputs": [],
   "source": [
    "'''\n",
    "FOR RECORDING PREDICTIONS\n",
    "\n",
    "predictions = list(classifier.predict(input_fn=predict_input_fn))\n",
    "  predicted_classes = [p[\"classes\"] for p in predictions]\n",
    "\n",
    "  print(\n",
    "      \"New Samples, Class Predictions:    {}\\n\"\n",
    "      .format(predicted_classes))\n",
    "'''"
   ]
  },
  {
   "cell_type": "code",
   "execution_count": null,
   "metadata": {
    "collapsed": true
   },
   "outputs": [],
   "source": []
  }
 ],
 "metadata": {
  "kernelspec": {
   "display_name": "Python 3",
   "language": "python",
   "name": "python3"
  },
  "language_info": {
   "codemirror_mode": {
    "name": "ipython",
    "version": 3
   },
   "file_extension": ".py",
   "mimetype": "text/x-python",
   "name": "python",
   "nbconvert_exporter": "python",
   "pygments_lexer": "ipython3",
   "version": "3.6.3"
  }
 },
 "nbformat": 4,
 "nbformat_minor": 2
}
